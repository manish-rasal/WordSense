{
  "nbformat": 4,
  "nbformat_minor": 0,
  "metadata": {
    "colab": {
      "provenance": []
    },
    "kernelspec": {
      "name": "python3",
      "display_name": "Python 3"
    },
    "language_info": {
      "name": "python"
    }
  },
  "cells": [
    {
      "cell_type": "markdown",
      "source": [
        "### Task 1: Reading and Extracting Words from a Text File\n",
        "\n",
        "We'll start by reading a file named \"words.txt\" and extracting all the words from it. It's crucial to lowercase all the words to maintain consistency and prevent counting the same word multiple times due to case differences. Next, we'll compile a set containing all the unique words found in the file. As a quick check, we'll also display the first ten words from the file. Now, let's begin and explore the content of \"words.txt\"!"
      ],
      "metadata": {
        "id": "tPe0Zl6LkYiR"
      }
    },
    {
      "cell_type": "code",
      "source": [
        "#--- Import path from pathlib,re,counter from collections ---\n",
        "import re\n",
        "from pathlib import Path\n",
        "from collections import Counter\n",
        "\n",
        "#--- Read in text file (''words.txt'') ----\n",
        "file_path = Path(\"../data/words.txt\")\n",
        "with open(file_path, 'r') as file:\n",
        "    file_content = file.read()\n",
        "\n",
        "# ---WRITE CODE FOR TASK 1 ---\n",
        "words = re.findall(r'\\w+', file_content.lower())\n",
        "V = set(words)\n",
        "ten_words = words[:10]\n",
        "\n",
        "#--- Inspect data ---\n",
        "print(\"Unique vocabulary:\", V)\n",
        "print(\"First ten words:\", ten_words)"
      ],
      "metadata": {
        "id": "GAYSsWxdkxUz"
      },
      "execution_count": null,
      "outputs": []
    },
    {
      "cell_type": "markdown",
      "source": [
        "### Task 2: Counting Word Frequencies\n",
        "\n",
        "Now, let's tally the frequency of each word in the file. We'll utilize a dictionary to keep track of how often each word occurs. Moreover, we'll identify the ten most common words and present them. Let's proceed with our investigation to uncover which words dominate the text file!"
      ],
      "metadata": {
        "id": "ciDYWeHCk9ZB"
      }
    },
    {
      "cell_type": "code",
      "source": [
        "# --- WRITE CODE FOR TASK 2 ---\n",
        "word_freq = {}\n",
        "word_freq = Counter(words)\n",
        "most_common_txt = word_freq.most_common(10)\n",
        "\n",
        "#--- Inspect data ---\n",
        "print(\"Ten most common words and their frequencies:\")\n",
        "for word, freq in most_common_txt:\n",
        "    print(word, \":\", freq)"
      ],
      "metadata": {
        "id": "x8Lvm8wglOpu"
      },
      "execution_count": null,
      "outputs": []
    },
    {
      "cell_type": "markdown",
      "source": [
        "### Task 3: Visualizing Top Word Frequencies\n",
        "\n",
        "Let's advance our analysis by visualizing the word frequencies in our text data. This visualization will provide insight into the most prevalent words.\n",
        "\n",
        "Generate a bar plot illustrating the top 20 most frequent words along with their frequencies. This graphical representation will facilitate the comprehension of word distribution within our text.\n",
        "\n",
        "Let's move forward and produce a bar plot to visualize the frequencies of the top 20 most common words!"
      ],
      "metadata": {
        "id": "US5VHoxvlTjD"
      }
    },
    {
      "cell_type": "code",
      "source": [
        "#--- Import matplotlib.pyplot as plts ---\n",
        "import matplotlib.pyplot as plt\n",
        "\n",
        "# --- WRITE CODE FOR TASK 3 ---\n",
        "most_common_20 = word_freq.most_common(20)\n",
        "words, frequencies = zip(*most_common_20)\n",
        "\n",
        "#--- Inspect data ---\n",
        "plt.figure(figsize=(10, 6))\n",
        "plt.bar(words, frequencies)\n",
        "plt.xlabel('Words')\n",
        "plt.ylabel('Frequencies')\n",
        "plt.title('Top 20 Most Common Words and Their Frequencies')\n",
        "plt.xticks(rotation=45)\n",
        "plt.show()"
      ],
      "metadata": {
        "id": "ZSmDpWAKlcP0"
      },
      "execution_count": null,
      "outputs": []
    },
    {
      "cell_type": "markdown",
      "source": [
        "### Task 4: Calculating Word Probabilities\n",
        "\n",
        "Now, let's progress to determine the probabilities associated with each word in our text data. This analysis will provide insight into the probability of encountering each word within the text.\n",
        "\n",
        "We'll compute the probability of each word by dividing its frequency by the total sum of word frequencies. This computation will provide a measure of the relative commonality or rarity of each word across the entire text.\n",
        "\n",
        "Let's move forward and calculate the probabilities of each word in our text data to gain deeper insights into their occurrences!"
      ],
      "metadata": {
        "id": "8WK_yprHllB1"
      }
    },
    {
      "cell_type": "code",
      "source": [
        "# --- WRITE CODE FOR TASK 4 ---\n",
        "probs = {}\n",
        "\n",
        "total_sum = sum(word_freq.values())\n",
        "\n",
        "for word, freq in word_freq.items():\n",
        "    probs[word] = freq / total_sum\n",
        "\n",
        "#--- Inspect data ---\n",
        "print(\"Probabilities of each word:\")\n",
        "for word, prob in probs.items():\n",
        "    print(word, \":\", prob)"
      ],
      "metadata": {
        "id": "mVvvW95-lvOY"
      },
      "execution_count": null,
      "outputs": []
    },
    {
      "cell_type": "markdown",
      "source": [
        "### Task 5: Implementing Auto-correction Algorithm\n",
        "\n",
        "Now, let's extend our analysis by constructing an autocorrect feature. This feature will assist users in rectifying any misspelled words they enter.\n",
        "\n",
        "We'll examine whether the input word is present in our lexicon. If it is, we'll inform the user that the word appears to be correct. However, if the word is not found in our lexicon, we'll propose some alternative words based on their probability and resemblance to the input word.\n",
        "\n",
        "Let's continue and develop the autocorrect function to aid users in rectifying their misspelled words!"
      ],
      "metadata": {
        "id": "wuAbAJZ_l1iy"
      }
    },
    {
      "cell_type": "code",
      "source": [
        "#--- import textdistance ---\n",
        "import textdistance\n",
        "import pandas as pd\n",
        "\n",
        "# --- WRITE CODE FOR TASK 5 ---\n",
        "def my_autocorrect(input_word):\n",
        "    input_word = input_word.lower()\n",
        "\n",
        "    if input_word in V:\n",
        "        return \"Your word seems to be correct\"\n",
        "\n",
        "    similarity_scores = {}\n",
        "    for word in word_freq.keys():\n",
        "        similarity_scores[word] = textdistance.Jaccard(qval=2).normalized_similarity(input_word, word)\n",
        "\n",
        "    df = pd.DataFrame({'Word': list(probs.keys()), 'Prob': list(probs.values()), 'Similarity': list(similarity_scores.values())})\n",
        "\n",
        "    df.columns = ['Word', 'Prob', 'Similarity']\n",
        "\n",
        "    df = df.sort_values(by=['Similarity', 'Prob'], ascending=[False, False])\n",
        "\n",
        "    return df.head()\n",
        "\n",
        "\n",
        "suggestion_words = my_autocorrect('neverteless')\n",
        "#--- Inspect data ---\n",
        "#suggestion_words\n",
        "print(suggestion_words)"
      ],
      "metadata": {
        "id": "bXFsO1lvl_AQ"
      },
      "execution_count": null,
      "outputs": []
    },
    {
      "cell_type": "markdown",
      "source": [
        "### Task 6: Implementing Enhanced Correction Suggestions\n",
        "\n",
        "Congratulations on your advancements! Now, let's elevate our word correction functionality to offer more accurate suggestions for misspelled words.\n",
        "\n",
        "If the input word is already accurate, we'll return it unchanged. However, if the word is not recognized in our vocabulary, we'll propose similar words based on their resemblance to the input word. This time, we'll employ a different technique known as Levenshtein distance to identify similar words.\n",
        "\n",
        "Let's continue and refine our word correction function to offer improved suggestions for misspelled words!"
      ],
      "metadata": {
        "id": "15_D4iVFmEpk"
      }
    },
    {
      "cell_type": "code",
      "source": [
        "# --- WRITE YOUR CODE FOR TASK 6 ---\n",
        "\n",
        "def correction_suggestion(word):\n",
        "    word = word.lower()\n",
        "\n",
        "    if word in V:\n",
        "        return word\n",
        "\n",
        "    suggestions = [w for w in V if textdistance.levenshtein.normalized_similarity(word, w) > 0.8]\n",
        "\n",
        "    return suggestions[0] if suggestions else None\n",
        "\n",
        "\n",
        "result = correction_suggestion('kidness')\n",
        "#--- Inspect data ---\n",
        "#result\n",
        "print(result)"
      ],
      "metadata": {
        "id": "Ws9tMslcmNk0"
      },
      "execution_count": null,
      "outputs": []
    }
  ]
}